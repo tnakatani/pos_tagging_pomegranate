{
 "cells": [
  {
   "cell_type": "markdown",
   "metadata": {},
   "source": [
    "# Project: Part of Speech Tagging with Hidden Markov Models \n",
    "---\n",
    "### Introduction\n",
    "\n",
    "Part of speech tagging is the process of determining the syntactic category of a word from the words in its surrounding context. It is often used to help disambiguate natural language phrases because it can be done quickly with high accuracy. Tagging can be used for many NLP tasks like determining correct pronunciation during speech synthesis (for example, _dis_-count as a noun vs dis-_count_ as a verb), for information retrieval, and for word sense disambiguation.\n",
    "\n",
    "In this notebook, you'll use the [Pomegranate](http://pomegranate.readthedocs.io/) library to build a hidden Markov model for part of speech tagging using a \"universal\" tagset. Hidden Markov models have been able to achieve [>96% tag accuracy with larger tagsets on realistic text corpora](http://www.coli.uni-saarland.de/~thorsten/publications/Brants-ANLP00.pdf). Hidden Markov models have also been used for speech recognition and speech generation, machine translation, gene recognition for bioinformatics, and human gesture recognition for computer vision, and more. \n",
    "\n",
    "![](_post-hmm.png)\n",
    "\n",
    "The notebook already contains some code to get you started. You only need to add some new functionality in the areas indicated to complete the project; you will not need to modify the included code beyond what is requested. Sections that begin with **'IMPLEMENTATION'** in the header indicate that you must provide code in the block that follows. Instructions will be provided for each section, and the specifics of the implementation are marked in the code block with a 'TODO' statement. Please be sure to read the instructions carefully!"
   ]
  },
  {
   "cell_type": "markdown",
   "metadata": {},
   "source": [
    "### The Road Ahead\n",
    "You must complete Steps 1-3 below to pass the project. The section on Step 4 includes references & resources you can use to further explore HMM taggers.\n",
    "\n",
    "- [Step 1](#Step-1:-Read-and-preprocess-the-dataset): Review the provided interface to load and access the text corpus\n",
    "- [Step 2](#Step-2:-Build-a-Most-Frequent-Class-tagger): Build a Most Frequent Class tagger to use as a baseline\n",
    "- [Step 3](#Step-3:-Build-an-HMM-tagger): Build an HMM Part of Speech tagger and compare to the MFC baseline\n",
    "- [Step 4](#Step-4:-[Optional]-Improving-model-performance): (Optional) Improve the HMM tagger"
   ]
  },
  {
   "cell_type": "code",
   "execution_count": 2,
   "metadata": {},
   "outputs": [],
   "source": [
    "# Jupyter \"magic methods\" -- only need to be run once per kernel restart\n",
    "%load_ext autoreload\n",
    "%aimport helpers, tests\n",
    "%autoreload 1"
   ]
  },
  {
   "cell_type": "code",
   "execution_count": 68,
   "metadata": {},
   "outputs": [],
   "source": [
    "# import python modules -- this cell needs to be run again if you make changes to any of the files\n",
    "import matplotlib.pyplot as plt\n",
    "import numpy as np\n",
    "import pandas as pd\n",
    "\n",
    "from IPython.core.display import HTML\n",
    "from itertools import chain, islice\n",
    "from collections import Counter, defaultdict\n",
    "from helpers import show_model, Dataset, read_data, read_tags\n",
    "from pomegranate import State, HiddenMarkovModel, DiscreteDistribution"
   ]
  },
  {
   "cell_type": "markdown",
   "metadata": {},
   "source": [
    "## Step 1: Read and preprocess the dataset\n",
    "---\n",
    "We'll start by reading in a text corpus and splitting it into a training and testing dataset. The data set is a copy of the [Brown corpus](https://en.wikipedia.org/wiki/Brown_Corpus) (originally from the [NLTK](https://www.nltk.org/) library) that has already been pre-processed to only include the [universal tagset](https://arxiv.org/pdf/1104.2086.pdf). You should expect to get slightly higher accuracy using this simplified tagset than the same model would achieve on a larger tagset like the full [Penn treebank tagset](https://www.ling.upenn.edu/courses/Fall_2003/ling001/penn_treebank_pos.html), but the process you'll follow would be the same.\n",
    "\n",
    "The `Dataset` class provided in helpers.py will read and parse the corpus. You can generate your own datasets compatible with the reader by writing them to the following format. The dataset is stored in plaintext as a collection of words and corresponding tags. Each sentence starts with a unique identifier on the first line, followed by one tab-separated word/tag pair on each following line. Sentences are separated by a single blank line.\n",
    "\n",
    "Example from the Brown corpus. \n",
    "```\n",
    "b100-38532\n",
    "Perhaps\tADV\n",
    "it\tPRON\n",
    "was\tVERB\n",
    "right\tADJ\n",
    ";\t.\n",
    ";\t.\n",
    "\n",
    "b100-35577\n",
    "...\n",
    "```"
   ]
  },
  {
   "cell_type": "code",
   "execution_count": 4,
   "metadata": {},
   "outputs": [
    {
     "name": "stdout",
     "output_type": "stream",
     "text": [
      "There are 57340 sentences in the corpus.\n",
      "There are 45872 sentences in the training set.\n",
      "There are 11468 sentences in the testing set.\n"
     ]
    }
   ],
   "source": [
    "data = Dataset(\"tags-universal.txt\", \"brown-universal.txt\", train_test_split=0.8)\n",
    "\n",
    "print(\"There are {} sentences in the corpus.\".format(len(data)))\n",
    "print(\"There are {} sentences in the training set.\".format(len(data.training_set)))\n",
    "print(\"There are {} sentences in the testing set.\".format(len(data.testing_set)))\n",
    "\n",
    "assert len(data) == len(data.training_set) + len(data.testing_set), \\\n",
    "       \"The number of sentences in the training set + testing set should sum to the number of sentences in the corpus\""
   ]
  },
  {
   "cell_type": "markdown",
   "metadata": {},
   "source": [
    "### The Dataset Interface\n",
    "\n",
    "You can access (mostly) immutable references to the dataset through a simple interface provided through the `Dataset` class, which represents an iterable collection of sentences along with easy access to partitions of the data for training & testing. Review the reference below, then run and review the next few cells to make sure you understand the interface before moving on to the next step.\n",
    "\n",
    "Dataset-only Attributes:\n",
    "\n",
    "1. **`training_set`** - reference to a Subset object containing the samples for training\n",
    "2. __`testing_set`__ - reference to a Subset object containing the samples for testing\n",
    "\n",
    "Dataset & Subset Attributes:\n",
    "1. __`sentences`__ - a dictionary with an entry `{sentence_key: Sentence()}` for each sentence in the corpus\n",
    "2. __`keys`__ - an immutable ordered (not sorted) collection of the sentence_keys for the corpus\n",
    "3. __`vocab`__ - an immutable collection of the unique words in the corpus\n",
    "4. __`tagset`__ - an immutable collection of the unique tags in the corpus\n",
    "5. __`X`__ - returns an array of words grouped by sentences `((w11, w12, w13, ...), (w21, w22, w23, ...), ...)`\n",
    "6. __`Y`__ - returns an array of tags grouped by sentences `((t11, t12, t13, ...), (t21, t22, t23, ...), ...)`\n",
    "7. __`N`__ - returns the number of distinct samples (individual words or tags) in the dataset\n",
    "\n",
    "Methods:\n",
    "1. __`stream()`__ - returns an flat iterable over all (word, tag) pairs across all sentences in the corpus\n",
    "2. __`iter`__() - returns an iterable over the data as (sentence_key, Sentence()) pairs\n",
    "3. __`len`__() - returns the nubmer of sentences in the dataset\n",
    "\n",
    "For example, consider a Subset, `subset`, of the sentences `{\"s0\": Sentence((\"See\", \"Spot\", \"run\"), (\"VERB\", \"NOUN\", \"VERB\")), \"s1\": Sentence((\"Spot\", \"ran\"), (\"NOUN\", \"VERB\"))}`. The subset will have these attributes:\n",
    "\n",
    "```\n",
    "subset.keys == {\"s1\", \"s0\"}  # unordered\n",
    "subset.vocab == {\"See\", \"run\", \"ran\", \"Spot\"}  # unordered\n",
    "subset.tagset == {\"VERB\", \"NOUN\"}  # unordered\n",
    "subset.X == ((\"Spot\", \"ran\"), (\"See\", \"Spot\", \"run\"))  # order matches .keys\n",
    "subset.Y == ((\"NOUN\", \"VERB\"), (\"VERB\", \"NOUN\", \"VERB\"))  # order matches .keys\n",
    "subset.N == 7  # there are a total of seven observations over all sentences\n",
    "len(subset) == 2  # because there are two sentences\n",
    "```\n",
    "\n",
    "<div class=\"alert alert-block alert-info\">\n",
    "**Note:** The `Dataset` class is _convenient_, but it is **not** efficient. It is not suitable for huge datasets because it stores multiple redundant copies of the same data.\n",
    "</div>"
   ]
  },
  {
   "cell_type": "markdown",
   "metadata": {},
   "source": [
    "#### Sentences\n",
    "\n",
    "`Dataset.sentences` is a dictionary of all sentences in the training corpus, each keyed to a unique sentence identifier. Each `Sentence` is itself an object with two attributes: a tuple of the words in the sentence named `words` and a tuple of the tag corresponding to each word named `tags`."
   ]
  },
  {
   "cell_type": "code",
   "execution_count": 5,
   "metadata": {},
   "outputs": [
    {
     "name": "stdout",
     "output_type": "stream",
     "text": [
      "Sentence: b100-38532\n",
      "words:\n",
      "\t('Perhaps', 'it', 'was', 'right', ';', ';')\n",
      "tags:\n",
      "\t('ADV', 'PRON', 'VERB', 'ADJ', '.', '.')\n"
     ]
    }
   ],
   "source": [
    "key = 'b100-38532'\n",
    "print(\"Sentence: {}\".format(key))\n",
    "print(\"words:\\n\\t{!s}\".format(data.sentences[key].words))\n",
    "print(\"tags:\\n\\t{!s}\".format(data.sentences[key].tags))"
   ]
  },
  {
   "cell_type": "markdown",
   "metadata": {},
   "source": [
    "<div class=\"alert alert-block alert-info\">\n",
    "**Note:** The underlying iterable sequence is **unordered** over the sentences in the corpus; it is not guaranteed to return the sentences in a consistent order between calls. Use `Dataset.stream()`, `Dataset.keys`, `Dataset.X`, or `Dataset.Y` attributes if you need ordered access to the data.\n",
    "</div>\n",
    "\n",
    "#### Counting Unique Elements\n",
    "\n",
    "You can access the list of unique words (the dataset vocabulary) via `Dataset.vocab` and the unique list of tags via `Dataset.tagset`."
   ]
  },
  {
   "cell_type": "code",
   "execution_count": 6,
   "metadata": {},
   "outputs": [
    {
     "name": "stdout",
     "output_type": "stream",
     "text": [
      "There are a total of 1161192 samples of 56057 unique words in the corpus.\n",
      "There are 928458 samples of 50536 unique words in the training set.\n",
      "There are 232734 samples of 25112 unique words in the testing set.\n",
      "There are 5521 words in the test set that are missing in the training set.\n"
     ]
    }
   ],
   "source": [
    "print(\"There are a total of {} samples of {} unique words in the corpus.\"\n",
    "      .format(data.N, len(data.vocab)))\n",
    "print(\"There are {} samples of {} unique words in the training set.\"\n",
    "      .format(data.training_set.N, len(data.training_set.vocab)))\n",
    "print(\"There are {} samples of {} unique words in the testing set.\"\n",
    "      .format(data.testing_set.N, len(data.testing_set.vocab)))\n",
    "print(\"There are {} words in the test set that are missing in the training set.\"\n",
    "      .format(len(data.testing_set.vocab - data.training_set.vocab)))\n",
    "\n",
    "assert data.N == data.training_set.N + data.testing_set.N, \\\n",
    "       \"The number of training + test samples should sum to the total number of samples\""
   ]
  },
  {
   "cell_type": "markdown",
   "metadata": {},
   "source": [
    "#### Accessing word and tag Sequences\n",
    "The `Dataset.X` and `Dataset.Y` attributes provide access to ordered collections of matching word and tag sequences for each sentence in the dataset."
   ]
  },
  {
   "cell_type": "code",
   "execution_count": 7,
   "metadata": {},
   "outputs": [
    {
     "name": "stdout",
     "output_type": "stream",
     "text": [
      "Sentence 1: ('Mr.', 'Podger', 'had', 'thanked', 'him', 'gravely', ',', 'and', 'now', 'he', 'made', 'use', 'of', 'the', 'advice', '.')\n",
      "\n",
      "Labels 1: ('NOUN', 'NOUN', 'VERB', 'VERB', 'PRON', 'ADV', '.', 'CONJ', 'ADV', 'PRON', 'VERB', 'NOUN', 'ADP', 'DET', 'NOUN', '.')\n",
      "\n",
      "Sentence 2: ('But', 'there', 'seemed', 'to', 'be', 'some', 'difference', 'of', 'opinion', 'as', 'to', 'how', 'far', 'the', 'board', 'should', 'go', ',', 'and', 'whose', 'advice', 'it', 'should', 'follow', '.')\n",
      "\n",
      "Labels 2: ('CONJ', 'PRT', 'VERB', 'PRT', 'VERB', 'DET', 'NOUN', 'ADP', 'NOUN', 'ADP', 'ADP', 'ADV', 'ADV', 'DET', 'NOUN', 'VERB', 'VERB', '.', 'CONJ', 'DET', 'NOUN', 'PRON', 'VERB', 'VERB', '.')\n",
      "\n"
     ]
    }
   ],
   "source": [
    "# accessing words with Dataset.X and tags with Dataset.Y \n",
    "for i in range(2):\n",
    "    print(\"Sentence {}:\".format(i + 1), data.X[i])\n",
    "    print()\n",
    "    print(\"Labels {}:\".format(i + 1), data.Y[i])\n",
    "    print()"
   ]
  },
  {
   "cell_type": "markdown",
   "metadata": {},
   "source": [
    "#### Accessing (word, tag) Samples\n",
    "The `Dataset.stream()` method returns an iterator that chains together every pair of (word, tag) entries across all sentences in the entire corpus."
   ]
  },
  {
   "cell_type": "code",
   "execution_count": 8,
   "metadata": {},
   "outputs": [
    {
     "name": "stdout",
     "output_type": "stream",
     "text": [
      "\n",
      "Stream (word, tag) pairs:\n",
      "\n",
      "\t ('Mr.', 'NOUN')\n",
      "\t ('Podger', 'NOUN')\n",
      "\t ('had', 'VERB')\n",
      "\t ('thanked', 'VERB')\n",
      "\t ('him', 'PRON')\n",
      "\t ('gravely', 'ADV')\n",
      "\t (',', '.')\n"
     ]
    }
   ],
   "source": [
    "# use Dataset.stream() (word, tag) samples for the entire corpus\n",
    "print(\"\\nStream (word, tag) pairs:\\n\")\n",
    "for i, pair in enumerate(data.stream()):\n",
    "    print(\"\\t\", pair)\n",
    "    if i > 5: break"
   ]
  },
  {
   "cell_type": "markdown",
   "metadata": {},
   "source": [
    "\n",
    "For both our baseline tagger and the HMM model we'll build, we need to estimate the frequency of tags & words from the frequency counts of observations in the training corpus. In the next several cells you will complete functions to compute the counts of several sets of counts. "
   ]
  },
  {
   "cell_type": "markdown",
   "metadata": {},
   "source": [
    "## Step 2: Build a Most Frequent Class tagger\n",
    "---\n",
    "\n",
    "Perhaps the simplest tagger (and a good baseline for tagger performance) is to simply choose the tag most frequently assigned to each word. This \"most frequent class\" tagger inspects each observed word in the sequence and assigns it the label that was most often assigned to that word in the corpus."
   ]
  },
  {
   "cell_type": "markdown",
   "metadata": {},
   "source": [
    "### IMPLEMENTATION: Pair Counts\n",
    "\n",
    "Complete the function below that computes the joint frequency counts for two input sequences."
   ]
  },
  {
   "cell_type": "code",
   "execution_count": 9,
   "metadata": {
    "scrolled": false
   },
   "outputs": [
    {
     "data": {
      "text/html": [
       "<div>\n",
       "<style scoped>\n",
       "    .dataframe tbody tr th:only-of-type {\n",
       "        vertical-align: middle;\n",
       "    }\n",
       "\n",
       "    .dataframe tbody tr th {\n",
       "        vertical-align: top;\n",
       "    }\n",
       "\n",
       "    .dataframe thead th {\n",
       "        text-align: right;\n",
       "    }\n",
       "</style>\n",
       "<table border=\"1\" class=\"dataframe\">\n",
       "  <thead>\n",
       "    <tr style=\"text-align: right;\">\n",
       "      <th></th>\n",
       "      <th>pos</th>\n",
       "      <th>token</th>\n",
       "      <th>count</th>\n",
       "    </tr>\n",
       "  </thead>\n",
       "  <tbody>\n",
       "    <tr>\n",
       "      <th>0</th>\n",
       "      <td>NOUN</td>\n",
       "      <td>time</td>\n",
       "      <td>1555</td>\n",
       "    </tr>\n",
       "    <tr>\n",
       "      <th>1</th>\n",
       "      <td>VERB</td>\n",
       "      <td>is</td>\n",
       "      <td>10010</td>\n",
       "    </tr>\n",
       "    <tr>\n",
       "      <th>2</th>\n",
       "      <td>PRON</td>\n",
       "      <td>it</td>\n",
       "      <td>6722</td>\n",
       "    </tr>\n",
       "    <tr>\n",
       "      <th>3</th>\n",
       "      <td>ADV</td>\n",
       "      <td>not</td>\n",
       "      <td>4423</td>\n",
       "    </tr>\n",
       "    <tr>\n",
       "      <th>4</th>\n",
       "      <td>.</td>\n",
       "      <td>,</td>\n",
       "      <td>58334</td>\n",
       "    </tr>\n",
       "    <tr>\n",
       "      <th>5</th>\n",
       "      <td>CONJ</td>\n",
       "      <td>and</td>\n",
       "      <td>27913</td>\n",
       "    </tr>\n",
       "    <tr>\n",
       "      <th>6</th>\n",
       "      <td>ADP</td>\n",
       "      <td>of</td>\n",
       "      <td>36079</td>\n",
       "    </tr>\n",
       "    <tr>\n",
       "      <th>7</th>\n",
       "      <td>DET</td>\n",
       "      <td>the</td>\n",
       "      <td>62711</td>\n",
       "    </tr>\n",
       "    <tr>\n",
       "      <th>8</th>\n",
       "      <td>PRT</td>\n",
       "      <td>to</td>\n",
       "      <td>14742</td>\n",
       "    </tr>\n",
       "    <tr>\n",
       "      <th>9</th>\n",
       "      <td>ADJ</td>\n",
       "      <td>other</td>\n",
       "      <td>1627</td>\n",
       "    </tr>\n",
       "    <tr>\n",
       "      <th>10</th>\n",
       "      <td>X</td>\n",
       "      <td>de</td>\n",
       "      <td>46</td>\n",
       "    </tr>\n",
       "    <tr>\n",
       "      <th>11</th>\n",
       "      <td>NUM</td>\n",
       "      <td>one</td>\n",
       "      <td>2389</td>\n",
       "    </tr>\n",
       "  </tbody>\n",
       "</table>\n",
       "</div>"
      ],
      "text/plain": [
       "     pos  token  count\n",
       "0   NOUN   time   1555\n",
       "1   VERB     is  10010\n",
       "2   PRON     it   6722\n",
       "3    ADV    not   4423\n",
       "4      .      ,  58334\n",
       "5   CONJ    and  27913\n",
       "6    ADP     of  36079\n",
       "7    DET    the  62711\n",
       "8    PRT     to  14742\n",
       "9    ADJ  other   1627\n",
       "10     X     de     46\n",
       "11   NUM    one   2389"
      ]
     },
     "metadata": {},
     "output_type": "display_data"
    },
    {
     "data": {
      "text/html": [
       "<div class=\"alert alert-block alert-success\">Your emission counts look good!</div>"
      ],
      "text/plain": [
       "<IPython.core.display.HTML object>"
      ]
     },
     "execution_count": 9,
     "metadata": {},
     "output_type": "execute_result"
    }
   ],
   "source": [
    "def pair_counts(sequence):\n",
    "    \"\"\"Return a dictionary keyed to each unique value in the sequence list\n",
    "    that counts the number of occurrences of a word token for part of speech.\n",
    "    \"\"\"\n",
    "    counts = {}\n",
    "    for i, pair in enumerate(sequence.stream()):\n",
    "        token = pair[0]\n",
    "        pos = pair[1]\n",
    "        if pos not in counts:\n",
    "            counts[pos] = {token: 1}\n",
    "        if token not in counts[pos]:\n",
    "            counts[pos][token] = 1\n",
    "        else:\n",
    "            counts[pos][token] += 1\n",
    "    return counts\n",
    "\n",
    "def display_max_key_values(freq_table: dict) -> pd.DataFrame:\n",
    "    \"\"\"Create a dataframe from the frequency table of emission counts\"\"\"\n",
    "    df = pd.DataFrame(columns={'pos':1, 'token':2, 'count':3})\n",
    "    for key in freq_table.keys():\n",
    "        max_key = max(freq_table[key], key=freq_table[key].get)\n",
    "        max_value = freq_table[key][max_key]\n",
    "        row = [key, max_key, max_value]\n",
    "        df = df.append(dict(zip(df.columns, row)), ignore_index=True)\n",
    "    return df\n",
    "\n",
    "# Calculate C(t_i, w_i)\n",
    "emission_counts = pair_counts(data)\n",
    "display(display_max_key_values(emission_counts))\n",
    "    \n",
    "assert len(emission_counts) == 12, \\\n",
    "       \"Uh oh. There should be 12 tags in your dictionary.\"\n",
    "assert max(emission_counts[\"NOUN\"], key=emission_counts[\"NOUN\"].get) == 'time', \\\n",
    "       \"Hmmm...'time' is expected to be the most common NOUN.\"\n",
    "HTML('<div class=\"alert alert-block alert-success\">Your emission counts look good!</div>')"
   ]
  },
  {
   "cell_type": "markdown",
   "metadata": {},
   "source": [
    "### IMPLEMENTATION: Most Frequent Class Tagger\n",
    "\n",
    "Use the `pair_counts()` function and the training dataset to find the most frequent class label for each word in the training data, and populate the `mfc_table` below. The table keys should be words, and the values should be the appropriate tag string.\n",
    "\n",
    "The `MFCTagger` class is provided to mock the interface of Pomegranite HMM models so that they can be used interchangeably."
   ]
  },
  {
   "cell_type": "code",
   "execution_count": 10,
   "metadata": {
    "scrolled": true
   },
   "outputs": [
    {
     "data": {
      "text/plain": [
       "{'displacing': 'VERB',\n",
       " '3,400': 'NUM',\n",
       " 'correctness': 'NOUN',\n",
       " 'Boy-Marquita': 'NOUN',\n",
       " 'Theodosian': 'ADJ',\n",
       " 'disbelieved': 'VERB',\n",
       " 'Correspondence': 'NOUN',\n",
       " 'watchmen': 'NOUN',\n",
       " 'new-rich': 'ADJ',\n",
       " 'funding': 'VERB'}"
      ]
     },
     "metadata": {},
     "output_type": "display_data"
    },
    {
     "data": {
      "text/html": [
       "<div class=\"alert alert-block alert-success\">Your MFC tagger has all the correct words!</div>"
      ],
      "text/plain": [
       "<IPython.core.display.HTML object>"
      ]
     },
     "execution_count": 10,
     "metadata": {},
     "output_type": "execute_result"
    }
   ],
   "source": [
    "# Create a lookup table mfc_table where mfc_table[word] contains the tag label most frequently assigned to that word\n",
    "from collections import namedtuple\n",
    "\n",
    "FakeState = namedtuple(\"FakeState\", \"name\")\n",
    "\n",
    "class MFCTagger:\n",
    "    # NOTE: You should not need to modify this class or any of its methods\n",
    "    missing = FakeState(name=\"<MISSING>\")\n",
    "    \n",
    "    def __init__(self, table):\n",
    "        self.table = defaultdict(lambda: MFCTagger.missing)\n",
    "        self.table.update({word: FakeState(name=tag) for word, tag in table.items()})\n",
    "        \n",
    "    def viterbi(self, seq):\n",
    "        \"\"\"This method simplifies predictions by matching the Pomegranate viterbi() interface\"\"\"\n",
    "        return 0., list(enumerate([\"<start>\"] + [self.table[w] for w in seq] + [\"<end>\"]))\n",
    "\n",
    "\n",
    "# TODO: calculate the frequency of each tag being assigned to each word (hint: similar, but not\n",
    "# the same as the emission probabilities) and use it to fill the mfc_table\n",
    "\n",
    "def mfc_tagger(freq_table: dict, vocab) -> dict:\n",
    "    \"\"\"Reads pair count output and the vocabulary of a dataset,\n",
    "    and returns another dictionary that maps the most frequent \n",
    "    part of speech for each token.\n",
    "    \"\"\"\n",
    "    keys = freq_table.keys()\n",
    "    mfc_table = {}\n",
    "    for token in data.training_set.vocab:\n",
    "        freq_count = {}\n",
    "        for key in keys:\n",
    "            if token in freq_table[key]:\n",
    "                freq_count[key] = freq_table[key][token]\n",
    "        mfc_table[token] = max(freq_count, key=freq_count.get)\n",
    "    return mfc_table\n",
    "\n",
    "word_counts = pair_counts(data.training_set)\n",
    "mfc_table = mfc_tagger(word_counts, data.training_set.vocab)\n",
    "display(dict(islice(mfc_table.items(), 10)))\n",
    "\n",
    "# # DO NOT MODIFY BELOW THIS LINE\n",
    "mfc_model = MFCTagger(mfc_table) # Create a Most Frequent Class tagger instance\n",
    "\n",
    "assert len(mfc_table) == len(data.training_set.vocab), \"\"\n",
    "assert all(k in data.training_set.vocab for k in mfc_table.keys()), \"\"\n",
    "assert sum(int(k not in mfc_table) for k in data.testing_set.vocab) == 5521, \"\"\n",
    "HTML('<div class=\"alert alert-block alert-success\">Your MFC tagger has all the correct words!</div>')"
   ]
  },
  {
   "cell_type": "markdown",
   "metadata": {},
   "source": [
    "### Making Predictions with a Model\n",
    "The helper functions provided below interface with Pomegranate network models & the mocked MFCTagger to take advantage of the [missing value](http://pomegranate.readthedocs.io/en/latest/nan.html) functionality in Pomegranate through a simple sequence decoding function. Run these functions, then run the next cell to see some of the predictions made by the MFC tagger."
   ]
  },
  {
   "cell_type": "code",
   "execution_count": 11,
   "metadata": {},
   "outputs": [],
   "source": [
    "def replace_unknown(sequence):\n",
    "    \"\"\"Return a copy of the input sequence where each unknown word is replaced\n",
    "    by the literal string value 'nan'. Pomegranate will ignore these values\n",
    "    during computation.\n",
    "    \"\"\"\n",
    "    return [w if w in data.training_set.vocab else 'nan' for w in sequence]\n",
    "\n",
    "def simplify_decoding(X, model):\n",
    "    \"\"\"X should be a 1-D sequence of observations for the model to predict\"\"\"\n",
    "    _, state_path = model.viterbi(replace_unknown(X))\n",
    "    return [state[1].name for state in state_path[1:-1]]  # do not show the start/end state predictions"
   ]
  },
  {
   "cell_type": "markdown",
   "metadata": {},
   "source": [
    "### Example Decoding Sequences with MFC Tagger"
   ]
  },
  {
   "cell_type": "code",
   "execution_count": 12,
   "metadata": {},
   "outputs": [
    {
     "name": "stdout",
     "output_type": "stream",
     "text": [
      "Sentence Key: b100-28144\n",
      "\n",
      "Predicted labels:\n",
      "-----------------\n",
      "['CONJ', 'NOUN', 'NUM', '.', 'NOUN', 'NUM', '.', 'NOUN', 'NUM', '.', 'CONJ', 'NOUN', 'NUM', '.', '.', 'NOUN', '.', '.']\n",
      "\n",
      "Actual labels:\n",
      "--------------\n",
      "('CONJ', 'NOUN', 'NUM', '.', 'NOUN', 'NUM', '.', 'NOUN', 'NUM', '.', 'CONJ', 'NOUN', 'NUM', '.', '.', 'NOUN', '.', '.')\n",
      "\n",
      "\n",
      "Sentence Key: b100-23146\n",
      "\n",
      "Predicted labels:\n",
      "-----------------\n",
      "['PRON', 'VERB', 'DET', 'NOUN', 'ADP', 'ADJ', 'ADJ', 'NOUN', 'VERB', 'VERB', '.', 'ADP', 'VERB', 'DET', 'NOUN', 'ADP', 'NOUN', 'ADP', 'DET', 'NOUN', '.']\n",
      "\n",
      "Actual labels:\n",
      "--------------\n",
      "('PRON', 'VERB', 'DET', 'NOUN', 'ADP', 'ADJ', 'ADJ', 'NOUN', 'VERB', 'VERB', '.', 'ADP', 'VERB', 'DET', 'NOUN', 'ADP', 'NOUN', 'ADP', 'DET', 'NOUN', '.')\n",
      "\n",
      "\n",
      "Sentence Key: b100-35462\n",
      "\n",
      "Predicted labels:\n",
      "-----------------\n",
      "['DET', 'ADJ', 'NOUN', 'VERB', 'VERB', 'VERB', 'ADP', 'DET', 'ADJ', 'ADJ', 'NOUN', 'ADP', 'DET', 'ADJ', 'NOUN', '.', 'ADP', 'ADJ', 'NOUN', '.', 'CONJ', 'ADP', 'DET', '<MISSING>', 'ADP', 'ADJ', 'ADJ', '.', 'ADJ', '.', 'CONJ', 'ADJ', 'NOUN', 'ADP', 'ADV', 'NOUN', '.']\n",
      "\n",
      "Actual labels:\n",
      "--------------\n",
      "('DET', 'ADJ', 'NOUN', 'VERB', 'VERB', 'VERB', 'ADP', 'DET', 'ADJ', 'ADJ', 'NOUN', 'ADP', 'DET', 'ADJ', 'NOUN', '.', 'ADP', 'ADJ', 'NOUN', '.', 'CONJ', 'ADP', 'DET', 'NOUN', 'ADP', 'ADJ', 'ADJ', '.', 'ADJ', '.', 'CONJ', 'ADJ', 'NOUN', 'ADP', 'ADJ', 'NOUN', '.')\n",
      "\n",
      "\n"
     ]
    }
   ],
   "source": [
    "for key in data.testing_set.keys[:3]:\n",
    "    print(\"Sentence Key: {}\\n\".format(key))\n",
    "    print(\"Predicted labels:\\n-----------------\")\n",
    "    print(simplify_decoding(data.sentences[key].words, mfc_model))\n",
    "    print()\n",
    "    print(\"Actual labels:\\n--------------\")\n",
    "    print(data.sentences[key].tags)\n",
    "    print(\"\\n\")"
   ]
  },
  {
   "cell_type": "markdown",
   "metadata": {},
   "source": [
    "### Evaluating Model Accuracy\n",
    "\n",
    "The function below will evaluate the accuracy of the MFC tagger on the collection of all sentences from a text corpus. "
   ]
  },
  {
   "cell_type": "code",
   "execution_count": 13,
   "metadata": {},
   "outputs": [],
   "source": [
    "def accuracy(X, Y, model):\n",
    "    \"\"\"Calculate the prediction accuracy by using the model to decode each sequence\n",
    "    in the input X and comparing the prediction with the true labels in Y.\n",
    "    \n",
    "    The X should be an array whose first dimension is the number of sentences to test,\n",
    "    and each element of the array should be an iterable of the words in the sequence.\n",
    "    The arrays X and Y should have the exact same shape.\n",
    "    \n",
    "    X = [(\"See\", \"Spot\", \"run\"), (\"Run\", \"Spot\", \"run\", \"fast\"), ...]\n",
    "    Y = [(), (), ...]\n",
    "    \"\"\"\n",
    "    correct = total_predictions = 0\n",
    "    for observations, actual_tags in zip(X, Y):\n",
    "        \n",
    "        # The model.viterbi call in simplify_decoding will return None if the HMM\n",
    "        # raises an error (for example, if a test sentence contains a word that\n",
    "        # is out of vocabulary for the training set). Any exception counts the\n",
    "        # full sentence as an error (which makes this a conservative estimate).\n",
    "        try:\n",
    "            most_likely_tags = simplify_decoding(observations, model)\n",
    "            correct += sum(p == t for p, t in zip(most_likely_tags, actual_tags))\n",
    "        except:\n",
    "            pass\n",
    "        total_predictions += len(observations)\n",
    "    return correct / total_predictions"
   ]
  },
  {
   "cell_type": "markdown",
   "metadata": {},
   "source": [
    "#### Evaluate the accuracy of the MFC tagger\n",
    "Run the next cell to evaluate the accuracy of the tagger on the training and test corpus."
   ]
  },
  {
   "cell_type": "code",
   "execution_count": 14,
   "metadata": {},
   "outputs": [
    {
     "name": "stdout",
     "output_type": "stream",
     "text": [
      "training accuracy mfc_model: 95.72%\n",
      "testing accuracy mfc_model: 93.02%\n"
     ]
    },
    {
     "data": {
      "text/html": [
       "<div class=\"alert alert-block alert-success\">Your MFC tagger accuracy looks correct!</div>"
      ],
      "text/plain": [
       "<IPython.core.display.HTML object>"
      ]
     },
     "execution_count": 14,
     "metadata": {},
     "output_type": "execute_result"
    }
   ],
   "source": [
    "mfc_training_acc = accuracy(data.training_set.X, data.training_set.Y, mfc_model)\n",
    "print(\"training accuracy mfc_model: {:.2f}%\".format(100 * mfc_training_acc))\n",
    "\n",
    "mfc_testing_acc = accuracy(data.testing_set.X, data.testing_set.Y, mfc_model)\n",
    "print(\"testing accuracy mfc_model: {:.2f}%\".format(100 * mfc_testing_acc))\n",
    "\n",
    "assert mfc_training_acc >= 0.955, \"Uh oh. Your MFC accuracy on the training set doesn't look right.\"\n",
    "assert mfc_testing_acc >= 0.925, \"Uh oh. Your MFC accuracy on the testing set doesn't look right.\"\n",
    "HTML('<div class=\"alert alert-block alert-success\">Your MFC tagger accuracy looks correct!</div>')"
   ]
  },
  {
   "cell_type": "markdown",
   "metadata": {},
   "source": [
    "## Step 3: Build an HMM tagger\n",
    "---\n",
    "The HMM tagger has one hidden state for each possible tag, and parameterized by two distributions: the emission probabilties giving the conditional probability of observing a given **word** from each hidden state, and the transition probabilities giving the conditional probability of moving between **tags** during the sequence.\n",
    "\n",
    "We will also estimate the starting probability distribution (the probability of each **tag** being the first tag in a sequence), and the terminal probability distribution (the probability of each **tag** being the last tag in a sequence).\n",
    "\n",
    "The maximum likelihood estimate of these distributions can be calculated from the frequency counts as described in the following sections where you'll implement functions to count the frequencies, and finally build the model. The HMM model will make predictions according to the formula:\n",
    "\n",
    "$$t_i^n = \\underset{t_i^n}{\\mathrm{argmax}} \\prod_{i=1}^n P(w_i|t_i) P(t_i|t_{i-1})$$\n",
    "\n",
    "Refer to Speech & Language Processing [Chapter 10](https://web.stanford.edu/~jurafsky/slp3/10.pdf) for more information."
   ]
  },
  {
   "cell_type": "markdown",
   "metadata": {},
   "source": [
    "### IMPLEMENTATION: Unigram Counts\n",
    "\n",
    "Complete the function below to estimate the co-occurrence frequency of each symbol over all of the input sequences. The unigram probabilities in our HMM model are estimated from the formula below, where N is the total number of samples in the input. (You only need to compute the counts for now.)\n",
    "\n",
    "$$P(tag_1) = \\frac{C(tag_1)}{N}$$"
   ]
  },
  {
   "cell_type": "code",
   "execution_count": 15,
   "metadata": {},
   "outputs": [
    {
     "data": {
      "text/plain": [
       "{'NOUN': 275558,\n",
       " 'VERB': 182750,\n",
       " 'PRON': 49334,\n",
       " 'ADV': 56239,\n",
       " '.': 147565,\n",
       " 'CONJ': 38151,\n",
       " 'ADP': 144766,\n",
       " 'DET': 137019,\n",
       " 'PRT': 29829,\n",
       " 'ADJ': 83721,\n",
       " 'X': 1386,\n",
       " 'NUM': 14874}"
      ]
     },
     "metadata": {},
     "output_type": "display_data"
    },
    {
     "data": {
      "text/html": [
       "<div class=\"alert alert-block alert-success\">Your tag unigrams look good!</div>"
      ],
      "text/plain": [
       "<IPython.core.display.HTML object>"
      ]
     },
     "execution_count": 15,
     "metadata": {},
     "output_type": "execute_result"
    }
   ],
   "source": [
    "def unigram_counts(sequence):\n",
    "    \"\"\"Return a dictionary keyed to each unique value in the input sequence list that\n",
    "    counts the number of occurrences of the value in the sequences list. The sequences\n",
    "    collection should be a 2-dimensional array.\n",
    "    \n",
    "    For example, if the tag NOUN appears 275558 times over all the input sequences,\n",
    "    then you should return a dictionary such that your_unigram_counts[NOUN] == 275558.\n",
    "    \"\"\"\n",
    "    counts = {}\n",
    "    for pair in sequence:\n",
    "        pos = pair[1]\n",
    "        if pos not in counts:\n",
    "            counts[pos] = 1\n",
    "        else:\n",
    "            counts[pos] += 1\n",
    "    return counts\n",
    "\n",
    "\n",
    "# TODO: call unigram_counts with a list of tag sequences from the training set\n",
    "tag_unigrams = unigram_counts(data.stream())\n",
    "display(tag_unigrams)\n",
    "\n",
    "assert set(tag_unigrams.keys()) == data.training_set.tagset, \\\n",
    "       \"Uh oh. It looks like your tag counts doesn't include all the tags!\"\n",
    "assert min(tag_unigrams, key=tag_unigrams.get) == 'X', \\\n",
    "       \"Hmmm...'X' is expected to be the least common class\"\n",
    "assert max(tag_unigrams, key=tag_unigrams.get) == 'NOUN', \\\n",
    "       \"Hmmm...'NOUN' is expected to be the most common class\"\n",
    "HTML('<div class=\"alert alert-block alert-success\">Your tag unigrams look good!</div>')"
   ]
  },
  {
   "cell_type": "markdown",
   "metadata": {},
   "source": [
    "### IMPLEMENTATION: Bigram Counts\n",
    "\n",
    "Complete the function below to estimate the co-occurrence frequency of each pair of symbols in each of the input sequences. These counts are used in the HMM model to estimate the bigram probability of two tags from the frequency counts according to the formula: $$P(tag_2|tag_1) = \\frac{C(tag_2|tag_1)}{C(tag_2)}$$\n"
   ]
  },
  {
   "cell_type": "code",
   "execution_count": 16,
   "metadata": {},
   "outputs": [
    {
     "data": {
      "text/plain": [
       "{('NOUN', 'NOUN'): 41144,\n",
       " ('NOUN', 'VERB'): 43763,\n",
       " ('VERB', 'VERB'): 33667,\n",
       " ('VERB', 'PRON'): 10058,\n",
       " ('PRON', 'ADV'): 2665,\n",
       " ('ADV', '.'): 9570,\n",
       " ('.', 'CONJ'): 10239,\n",
       " ('CONJ', 'ADV'): 3484,\n",
       " ('ADV', 'PRON'): 2719,\n",
       " ('PRON', 'VERB'): 34838,\n",
       " ('VERB', 'NOUN'): 17819,\n",
       " ('NOUN', 'ADP'): 67325,\n",
       " ('ADP', 'DET'): 65960,\n",
       " ('DET', 'NOUN'): 85838,\n",
       " ('NOUN', '.'): 78181,\n",
       " ('CONJ', 'PRT'): 959,\n",
       " ('PRT', 'VERB'): 18568,\n",
       " ('VERB', 'PRT'): 11987,\n",
       " ('VERB', 'DET'): 29784,\n",
       " ('ADP', 'NOUN'): 37415,\n",
       " ('ADP', 'ADP'): 2939,\n",
       " ('ADP', 'ADV'): 2244,\n",
       " ('ADV', 'ADV'): 5446,\n",
       " ('ADV', 'DET'): 4136,\n",
       " ('VERB', '.'): 14733,\n",
       " ('CONJ', 'DET'): 5772,\n",
       " ('NOUN', 'PRON'): 5460,\n",
       " ('PRT', 'DET'): 2492,\n",
       " ('VERB', 'ADV'): 18859,\n",
       " ('ADV', 'ADJ'): 7666,\n",
       " ('ADJ', 'ADP'): 7407,\n",
       " ('ADP', 'PRON'): 10102,\n",
       " ('ADP', 'ADJ'): 11961,\n",
       " ('ADJ', 'NOUN'): 54645,\n",
       " ('NOUN', 'ADJ'): 3553,\n",
       " ('ADP', 'VERB'): 5967,\n",
       " ('.', 'NOUN'): 12226,\n",
       " ('.', 'ADJ'): 4261,\n",
       " ('CONJ', 'NOUN'): 9294,\n",
       " ('.', 'ADP'): 9625,\n",
       " ('VERB', 'ADP'): 30925,\n",
       " ('DET', 'ADJ'): 32846,\n",
       " ('.', '.'): 15811,\n",
       " ('.', 'ADV'): 6429,\n",
       " ('.', 'DET'): 10003,\n",
       " ('DET', 'VERB'): 8861,\n",
       " ('ADV', 'VERB'): 13518,\n",
       " ('ADV', 'PRT'): 1613,\n",
       " ('ADV', 'ADP'): 7979,\n",
       " ('.', 'VERB'): 11313,\n",
       " ('NOUN', 'CONJ'): 16447,\n",
       " ('CONJ', 'VERB'): 7455,\n",
       " ('.', 'X'): 186,\n",
       " ('X', 'X'): 709,\n",
       " ('X', '.'): 380,\n",
       " ('PRON', 'DET'): 864,\n",
       " ('NOUN', 'PRT'): 4915,\n",
       " ('.', 'PRT'): 2705,\n",
       " ('VERB', 'ADJ'): 10510,\n",
       " ('ADJ', 'DET'): 489,\n",
       " ('ADJ', 'ADJ'): 4765,\n",
       " ('ADV', 'NOUN'): 1846,\n",
       " ('PRON', 'ADP'): 2753,\n",
       " ('.', 'PRON'): 6838,\n",
       " ('ADJ', 'CONJ'): 3147,\n",
       " ('NOUN', 'DET'): 4270,\n",
       " ('CONJ', 'ADP'): 2796,\n",
       " ('PRT', 'ADV'): 1079,\n",
       " ('ADJ', 'ADV'): 810,\n",
       " ('DET', 'PRON'): 1358,\n",
       " ('ADJ', '.'): 8404,\n",
       " ('NUM', '.'): 4027,\n",
       " ('NUM', 'NOUN'): 5659,\n",
       " ('PRT', 'ADJ'): 564,\n",
       " ('NOUN', 'ADV'): 7272,\n",
       " ('PRON', '.'): 5116,\n",
       " ('ADV', 'CONJ'): 974,\n",
       " ('CONJ', 'ADJ'): 4272,\n",
       " ('DET', 'CONJ'): 88,\n",
       " ('ADP', 'NUM'): 4357,\n",
       " ('NUM', 'DET'): 195,\n",
       " ('ADP', '.'): 1411,\n",
       " ('DET', 'NUM'): 1338,\n",
       " ('ADP', 'PRT'): 2062,\n",
       " ('PRON', 'PRT'): 1172,\n",
       " ('PRT', '.'): 2288,\n",
       " ('.', 'NUM'): 1780,\n",
       " ('PRT', 'NOUN'): 1066,\n",
       " ('VERB', 'NUM'): 1644,\n",
       " ('NUM', 'ADP'): 1950,\n",
       " ('DET', '.'): 1751,\n",
       " ('DET', 'ADV'): 2400,\n",
       " ('VERB', 'CONJ'): 2628,\n",
       " ('ADJ', 'PRON'): 320,\n",
       " ('NOUN', 'NUM'): 2222,\n",
       " ('NUM', 'CONJ'): 570,\n",
       " ('CONJ', 'NUM'): 713,\n",
       " ('ADP', 'CONJ'): 273,\n",
       " ('CONJ', 'PRON'): 2579,\n",
       " ('ADJ', 'PRT'): 1614,\n",
       " ('DET', 'PRT'): 275,\n",
       " ('NUM', 'VERB'): 677,\n",
       " ('PRT', 'PRT'): 335,\n",
       " ('ADV', 'NUM'): 747,\n",
       " ('DET', 'ADP'): 1243,\n",
       " ('PRT', 'ADP'): 2706,\n",
       " ('ADJ', 'VERB'): 1463,\n",
       " ('ADJ', 'NUM'): 584,\n",
       " ('PRON', 'CONJ'): 562,\n",
       " ('CONJ', '.'): 794,\n",
       " ('DET', 'DET'): 809,\n",
       " ('NUM', 'ADJ'): 882,\n",
       " ('DET', 'X'): 194,\n",
       " ('X', 'ADP'): 74,\n",
       " ('PRON', 'ADJ'): 468,\n",
       " ('PRON', 'NOUN'): 437,\n",
       " ('PRON', 'PRON'): 404,\n",
       " ('PRT', 'PRON'): 204,\n",
       " ('ADJ', 'X'): 42,\n",
       " ('NUM', 'PRT'): 79,\n",
       " ('NUM', 'NUM'): 323,\n",
       " ('NOUN', 'X'): 92,\n",
       " ('VERB', 'X'): 34,\n",
       " ('X', 'NOUN'): 76,\n",
       " ('X', 'VERB'): 72,\n",
       " ('NUM', 'PRON'): 126,\n",
       " ('PRT', 'CONJ'): 364,\n",
       " ('ADP', 'X'): 67,\n",
       " ('NUM', 'ADV'): 303,\n",
       " ('ADV', 'X'): 5,\n",
       " ('CONJ', 'X'): 21,\n",
       " ('PRT', 'NUM'): 152,\n",
       " ('PRON', 'NUM'): 49,\n",
       " ('X', 'PRON'): 9,\n",
       " ('X', 'CONJ'): 32,\n",
       " ('X', 'ADV'): 10,\n",
       " ('X', 'PRT'): 10,\n",
       " ('X', 'DET'): 7,\n",
       " ('X', 'ADJ'): 4,\n",
       " ('CONJ', 'CONJ'): 10,\n",
       " ('NUM', 'X'): 3,\n",
       " ('X', 'NUM'): 1,\n",
       " ('PRON', 'X'): 1,\n",
       " ('PRT', 'X'): 2}"
      ]
     },
     "metadata": {},
     "output_type": "display_data"
    },
    {
     "data": {
      "text/html": [
       "<div class=\"alert alert-block alert-success\">Your tag bigrams look good!</div>"
      ],
      "text/plain": [
       "<IPython.core.display.HTML object>"
      ]
     },
     "execution_count": 16,
     "metadata": {},
     "output_type": "execute_result"
    }
   ],
   "source": [
    "def bigram_counts(sequences):\n",
    "    \"\"\"Return a dictionary keyed to each unique PAIR of values in the input sequences\n",
    "    list that counts the number of occurrences of pair in the sequences list. The input\n",
    "    should be a 2-dimensional array.\n",
    "    \n",
    "    For example, if the pair of tags (NOUN, VERB) appear 61582 times, then you should\n",
    "    return a dictionary such that your_bigram_counts[(NOUN, VERB)] == 61582\n",
    "    \"\"\"\n",
    "    counts = {}\n",
    "    for sequence in sequences:\n",
    "        bigrams = list(zip(sequence, sequence[1:]))\n",
    "        for b in bigrams:\n",
    "            if b not in counts:\n",
    "                counts[b] = 1\n",
    "            else:\n",
    "                counts[b] += 1\n",
    "    return counts\n",
    "\n",
    "\n",
    "# TODO: call bigram_counts with a list of tag sequences from the training set\n",
    "tag_bigrams = bigram_counts(data.Y)\n",
    "display(tag_bigrams)\n",
    "\n",
    "\n",
    "assert len(tag_bigrams) == 144, \\\n",
    "       \"Uh oh. There should be 144 pairs of bigrams (12 tags x 12 tags)\"\n",
    "assert min(tag_bigrams, key=tag_bigrams.get) in [('X', 'NUM'), ('PRON', 'X')], \\\n",
    "       \"Hmmm...The least common bigram should be one of ('X', 'NUM') or ('PRON', 'X').\"\n",
    "assert max(tag_bigrams, key=tag_bigrams.get) in [('DET', 'NOUN')], \\\n",
    "       \"Hmmm...('DET', 'NOUN') is expected to be the most common bigram.\"\n",
    "HTML('<div class=\"alert alert-block alert-success\">Your tag bigrams look good!</div>')"
   ]
  },
  {
   "cell_type": "markdown",
   "metadata": {},
   "source": [
    "### IMPLEMENTATION: Sequence Starting Counts\n",
    "Complete the code below to estimate the bigram probabilities of a sequence starting with each tag."
   ]
  },
  {
   "cell_type": "code",
   "execution_count": 17,
   "metadata": {},
   "outputs": [
    {
     "data": {
      "text/plain": [
       "{'NOUN': 8093,\n",
       " 'CONJ': 2817,\n",
       " 'PRT': 2103,\n",
       " 'DET': 12238,\n",
       " 'PRON': 9157,\n",
       " 'ADP': 7044,\n",
       " 'ADJ': 1969,\n",
       " 'ADV': 5238,\n",
       " 'VERB': 2588,\n",
       " 'NUM': 964,\n",
       " '.': 5099,\n",
       " 'X': 30}"
      ]
     },
     "metadata": {},
     "output_type": "display_data"
    },
    {
     "data": {
      "text/html": [
       "<div class=\"alert alert-block alert-success\">Your starting tag counts look good!</div>"
      ],
      "text/plain": [
       "<IPython.core.display.HTML object>"
      ]
     },
     "execution_count": 17,
     "metadata": {},
     "output_type": "execute_result"
    }
   ],
   "source": [
    "def starting_counts(sequences):\n",
    "    \"\"\"Return a dictionary keyed to each unique value in the input sequences list\n",
    "    that counts the number of occurrences where that value is at the beginning of\n",
    "    a sequence.\n",
    "    \n",
    "    For example, if 8093 sequences start with NOUN, then you should return a\n",
    "    dictionary such that your_starting_counts[NOUN] == 8093\n",
    "    \"\"\"\n",
    "    counts = {}\n",
    "    for sequence in sequences:\n",
    "        first_tag = sequence[0]\n",
    "        if first_tag not in counts:\n",
    "            counts[first_tag] = 1\n",
    "        else:\n",
    "            counts[first_tag] += 1\n",
    "    return counts\n",
    "\n",
    "# TODO: Calculate the count of each tag starting a sequence\n",
    "tag_starts = starting_counts(data.Y)\n",
    "display(tag_starts)\n",
    "\n",
    "assert len(tag_starts) == 12, \"Uh oh. There should be 12 tags in your dictionary.\"\n",
    "assert min(tag_starts, key=tag_starts.get) == 'X', \"Hmmm...'X' is expected to be the least common starting bigram.\"\n",
    "assert max(tag_starts, key=tag_starts.get) == 'DET', \"Hmmm...'DET' is expected to be the most common starting bigram.\"\n",
    "HTML('<div class=\"alert alert-block alert-success\">Your starting tag counts look good!</div>')"
   ]
  },
  {
   "cell_type": "markdown",
   "metadata": {},
   "source": [
    "### IMPLEMENTATION: Sequence Ending Counts\n",
    "Complete the function below to estimate the bigram probabilities of a sequence ending with each tag."
   ]
  },
  {
   "cell_type": "code",
   "execution_count": 39,
   "metadata": {},
   "outputs": [
    {
     "data": {
      "text/plain": [
       "{'.': 56149,\n",
       " 'ADJ': 31,\n",
       " 'ADV': 20,\n",
       " 'NOUN': 914,\n",
       " 'NUM': 80,\n",
       " 'PRON': 5,\n",
       " 'ADP': 8,\n",
       " 'VERB': 102,\n",
       " 'DET': 18,\n",
       " 'PRT': 9,\n",
       " 'CONJ': 2,\n",
       " 'X': 2}"
      ]
     },
     "metadata": {},
     "output_type": "display_data"
    },
    {
     "data": {
      "text/html": [
       "<div class=\"alert alert-block alert-success\">Your ending tag counts look good!</div>"
      ],
      "text/plain": [
       "<IPython.core.display.HTML object>"
      ]
     },
     "execution_count": 39,
     "metadata": {},
     "output_type": "execute_result"
    }
   ],
   "source": [
    "def ending_counts(sequences):\n",
    "    \"\"\"Return a dictionary keyed to each unique value in the input sequences list\n",
    "    that counts the number of occurrences where that value is at the end of\n",
    "    a sequence.\n",
    "    \n",
    "    For example, if 18 sequences end with DET, then you should return a\n",
    "    dictionary such that your_starting_counts[DET] == 18\n",
    "    \"\"\"\n",
    "    counts = {}\n",
    "    for sequence in sequences:\n",
    "        last_tag = sequence[-1]\n",
    "        if last_tag not in counts:\n",
    "            counts[last_tag] = 1\n",
    "        else:\n",
    "            counts[last_tag] += 1\n",
    "    return counts\n",
    "\n",
    "# TODO: Calculate the count of each tag ending a sequence\n",
    "tag_ends = ending_counts(data.Y)\n",
    "display(tag_ends)\n",
    "\n",
    "assert len(tag_ends) == 12, \"Uh oh. There should be 12 tags in your dictionary.\"\n",
    "assert min(tag_ends, key=tag_ends.get) in ['X', 'CONJ'], \"Hmmm...'X' or 'CONJ' should be the least common ending bigram.\"\n",
    "assert max(tag_ends, key=tag_ends.get) == '.', \"Hmmm...'.' is expected to be the most common ending bigram.\"\n",
    "HTML('<div class=\"alert alert-block alert-success\">Your ending tag counts look good!</div>')"
   ]
  },
  {
   "cell_type": "markdown",
   "metadata": {},
   "source": [
    "### IMPLEMENTATION: Basic HMM Tagger\n",
    "Use the tag unigrams and bigrams calculated above to construct a hidden Markov tagger.\n",
    "\n",
    "- Add one state per tag\n",
    "    - The emission distribution at each state should be estimated with the formula: $P(w|t) = \\frac{C(t, w)}{C(t)}$\n",
    "- Add an edge from the starting state `basic_model.start` to each tag\n",
    "    - The transition probability should be estimated with the formula: $P(t|start) = \\frac{C(start, t)}{C(start)}$\n",
    "- Add an edge from each tag to the end state `basic_model.end`\n",
    "    - The transition probability should be estimated with the formula: $P(end|t) = \\frac{C(t, end)}{C(t)}$\n",
    "- Add an edge between _every_ pair of tags\n",
    "    - The transition probability should be estimated with the formula: $P(t_2|t_1) = \\frac{C(t_1, t_2)}{C(t_1)}$"
   ]
  },
  {
   "cell_type": "code",
   "execution_count": 58,
   "metadata": {},
   "outputs": [
    {
     "data": {
      "text/html": [
       "<div class=\"alert alert-block alert-success\">Your HMM network topology looks good!</div>"
      ],
      "text/plain": [
       "<IPython.core.display.HTML object>"
      ]
     },
     "execution_count": 58,
     "metadata": {},
     "output_type": "execute_result"
    }
   ],
   "source": [
    "basic_model = HiddenMarkovModel(name=\"base-hmm-tagger\")\n",
    "\n",
    "# Frequency tables created from previous cells\n",
    "# tables = [tag_unigrams, tag_bigrams, tag_starts, tag_ends]\n",
    "\n",
    "# TODO: create states with emission probability distributions P(word | tag) and add to the model\n",
    "# (Hint: you may need to loop & create/add new states)\n",
    "\n",
    "# create a dict to hold the emission probabilities\n",
    "tag_states = {}\n",
    "# loop through each tag in the emission_counts dictionary\n",
    "for tag in emission_counts:\n",
    "    emission_prob = {}\n",
    "    # calculate the occurence of the word as the tag, divided by the occurrence of the tag in the data.\n",
    "    for word in emission_counts[tag]:\n",
    "        # occurence of the word as the tag\n",
    "        c_t_w = emission_counts[tag][word]\n",
    "        # occurrence of the tag in the data\n",
    "        c_t = tag_unigrams[tag]\n",
    "        # emission distribution of a word, i.e. the likelihood of the word being the tag\n",
    "        emission_prob[word] = c_t_w / c_t\n",
    "    # add the emission distribution for the tag\n",
    "    tag_states[tag] = State(DiscreteDistribution(emission_prob), tag)\n",
    "    basic_model.add_state(tag_states[tag])\n",
    "\n",
    "    \n",
    "# Checkpoint: Save the emission probabilities\n",
    "with open('data/states.py', 'w') as file:\n",
    "    file.write(str(tag_states))\n",
    "\n",
    "    \n",
    "# # TODO: add edges between states for the observed transition frequencies P(tag_i | tag_i-1)\n",
    "# # (Hint: you may need to loop & add transitions\n",
    "\n",
    "# 1. Add an edge from the starting state basic_model.start to each tag\n",
    "# The transition probability should be estimated with the formula:  𝑃(𝑡|𝑠𝑡𝑎𝑟𝑡)=𝐶(𝑠𝑡𝑎𝑟𝑡,𝑡)|𝐶(𝑠𝑡𝑎𝑟𝑡)\n",
    "for tag in tag_starts:\n",
    "    transition_prob = tag_starts[tag] / sum(tag_starts.values())\n",
    "    basic_model.add_transition(basic_model.start, tag_states[tag], transition_prob)\n",
    "\n",
    "# 2. Add an edge from each tag to the end state basic_model.end\n",
    "# The transition probability should be estimated with the formula:  𝑃(𝑒𝑛𝑑|𝑡)=𝐶(𝑡,𝑒𝑛𝑑)|𝐶(𝑡) \n",
    "for tag in tag_ends:\n",
    "    transition_prob = tag_ends[tag] / sum(tag_ends.values())\n",
    "    basic_model.add_transition(tag_states[tag], basic_model.end, transition_prob)\n",
    "\n",
    "# 3. Add an edge between every pair of tags\n",
    "# The transition probability should be estimated with the formula:  𝑃(𝑡2|𝑡1)=𝐶(𝑡1,𝑡2)|𝐶(𝑡1)\n",
    "\n",
    "for tag_1, tag_2 in tag_bigrams.keys():\n",
    "    transition_prob = tag_bigrams[(tag_1, tag_2)] / tag_unigrams[tag_1]\n",
    "    basic_model.add_transition(tag_states[tag_1], tag_states[tag_2], transition_prob)\n",
    "\n",
    "\n",
    "# # NOTE: YOU SHOULD NOT NEED TO MODIFY ANYTHING BELOW THIS LINE\n",
    "# # finalize the model\n",
    "basic_model.bake()\n",
    "\n",
    "assert all(tag in set(s.name for s in basic_model.states) for tag in data.training_set.tagset), \\\n",
    "       \"Every state in your network should use the name of the associated tag, which must be one of the training set tags.\"\n",
    "assert basic_model.edge_count() == 168, \\\n",
    "       (\"Your network should have an edge from the start node to each state, one edge between every \" +\n",
    "        \"pair of tags (states), and an edge from each state to the end node.\")\n",
    "HTML('<div class=\"alert alert-block alert-success\">Your HMM network topology looks good!</div>')"
   ]
  },
  {
   "cell_type": "code",
   "execution_count": 59,
   "metadata": {
    "scrolled": false
   },
   "outputs": [
    {
     "data": {
      "image/png": "[encoded data removed]",
      "text/plain": [
       "<Figure size 720x720 with 1 Axes>"
      ]
     },
     "metadata": {
      "needs_background": "light"
     },
     "output_type": "display_data"
    }
   ],
   "source": [
    "# Visualize the network\n",
    "show_model(basic_model, figsize=(10, 10), filename=\"basic_model.png\", overwrite=True, show_ends=False)"
   ]
  },
  {
   "cell_type": "code",
   "execution_count": 60,
   "metadata": {
    "scrolled": true
   },
   "outputs": [
    {
     "name": "stdout",
     "output_type": "stream",
     "text": [
      "training accuracy basic hmm model: 97.54%\n",
      "testing accuracy basic hmm model: 96.17%\n"
     ]
    },
    {
     "data": {
      "text/html": [
       "<div class=\"alert alert-block alert-success\">Your HMM tagger accuracy looks correct! Congratulations, you've finished the project.</div>"
      ],
      "text/plain": [
       "<IPython.core.display.HTML object>"
      ]
     },
     "execution_count": 60,
     "metadata": {},
     "output_type": "execute_result"
    }
   ],
   "source": [
    "hmm_training_acc = accuracy(data.training_set.X, data.training_set.Y, basic_model)\n",
    "print(\"training accuracy basic hmm model: {:.2f}%\".format(100 * hmm_training_acc))\n",
    "\n",
    "hmm_testing_acc = accuracy(data.testing_set.X, data.testing_set.Y, basic_model)\n",
    "print(\"testing accuracy basic hmm model: {:.2f}%\".format(100 * hmm_testing_acc))\n",
    "\n",
    "assert hmm_training_acc > 0.97, \"Uh oh. Your HMM accuracy on the training set doesn't look right.\"\n",
    "assert hmm_testing_acc > 0.955, \"Uh oh. Your HMM accuracy on the testing set doesn't look right.\"\n",
    "HTML('<div class=\"alert alert-block alert-success\">Your HMM tagger accuracy looks correct! Congratulations, you\\'ve finished the project.</div>')"
   ]
  },
  {
   "cell_type": "markdown",
   "metadata": {},
   "source": [
    "### Example Decoding Sequences with the HMM Tagger"
   ]
  },
  {
   "cell_type": "code",
   "execution_count": 61,
   "metadata": {},
   "outputs": [
    {
     "name": "stdout",
     "output_type": "stream",
     "text": [
      "Sentence Key: b100-28144\n",
      "\n",
      "Predicted labels:\n",
      "-----------------\n",
      "['CONJ', 'NOUN', 'NUM', '.', 'NOUN', 'NUM', '.', 'NOUN', 'NUM', '.', 'CONJ', 'NOUN', 'NUM', '.', '.', 'NOUN', '.', '.']\n",
      "\n",
      "Actual labels:\n",
      "--------------\n",
      "('CONJ', 'NOUN', 'NUM', '.', 'NOUN', 'NUM', '.', 'NOUN', 'NUM', '.', 'CONJ', 'NOUN', 'NUM', '.', '.', 'NOUN', '.', '.')\n",
      "\n",
      "\n",
      "Sentence Key: b100-23146\n",
      "\n",
      "Predicted labels:\n",
      "-----------------\n",
      "['PRON', 'VERB', 'DET', 'NOUN', 'ADP', 'ADJ', 'ADJ', 'NOUN', 'VERB', 'VERB', '.', 'ADP', 'VERB', 'DET', 'NOUN', 'ADP', 'NOUN', 'ADP', 'DET', 'NOUN', '.']\n",
      "\n",
      "Actual labels:\n",
      "--------------\n",
      "('PRON', 'VERB', 'DET', 'NOUN', 'ADP', 'ADJ', 'ADJ', 'NOUN', 'VERB', 'VERB', '.', 'ADP', 'VERB', 'DET', 'NOUN', 'ADP', 'NOUN', 'ADP', 'DET', 'NOUN', '.')\n",
      "\n",
      "\n",
      "Sentence Key: b100-35462\n",
      "\n",
      "Predicted labels:\n",
      "-----------------\n",
      "['DET', 'ADJ', 'NOUN', 'VERB', 'VERB', 'VERB', 'ADP', 'DET', 'ADJ', 'ADJ', 'NOUN', 'ADP', 'DET', 'ADJ', 'NOUN', '.', 'ADP', 'ADJ', 'NOUN', '.', 'CONJ', 'ADP', 'DET', 'NOUN', 'ADP', 'ADJ', 'ADJ', '.', 'ADJ', '.', 'CONJ', 'ADJ', 'NOUN', 'ADP', 'ADJ', 'NOUN', '.']\n",
      "\n",
      "Actual labels:\n",
      "--------------\n",
      "('DET', 'ADJ', 'NOUN', 'VERB', 'VERB', 'VERB', 'ADP', 'DET', 'ADJ', 'ADJ', 'NOUN', 'ADP', 'DET', 'ADJ', 'NOUN', '.', 'ADP', 'ADJ', 'NOUN', '.', 'CONJ', 'ADP', 'DET', 'NOUN', 'ADP', 'ADJ', 'ADJ', '.', 'ADJ', '.', 'CONJ', 'ADJ', 'NOUN', 'ADP', 'ADJ', 'NOUN', '.')\n",
      "\n",
      "\n"
     ]
    }
   ],
   "source": [
    "for key in data.testing_set.keys[:3]:\n",
    "    print(\"Sentence Key: {}\\n\".format(key))\n",
    "    print(\"Predicted labels:\\n-----------------\")\n",
    "    print(simplify_decoding(data.sentences[key].words, basic_model))\n",
    "    print()\n",
    "    print(\"Actual labels:\\n--------------\")\n",
    "    print(data.sentences[key].tags)\n",
    "    print(\"\\n\")"
   ]
  },
  {
   "cell_type": "code",
   "execution_count": 62,
   "metadata": {},
   "outputs": [
    {
     "data": {
      "text/plain": [
       "['[NbConvertApp] Converting notebook HMM Tagger.ipynb to html',\n",
       " '[NbConvertApp] Writing 569688 bytes to HMM Tagger.html',\n",
       " '[NbConvertApp] Converting notebook HMM warmup (optional).ipynb to html',\n",
       " '[NbConvertApp] Writing 351245 bytes to HMM warmup (optional).html']"
      ]
     },
     "execution_count": 62,
     "metadata": {},
     "output_type": "execute_result"
    }
   ],
   "source": [
    "# Export the project\n",
    "!!jupyter nbconvert *.ipynb"
   ]
  },
  {
   "cell_type": "markdown",
   "metadata": {},
   "source": [
    "## Step 4: [Optional] Improving model performance\n",
    "---\n",
    "There are additional enhancements that can be incorporated into your tagger that improve performance on larger tagsets where the data sparsity problem is more significant. The data sparsity problem arises because the same amount of data split over more tags means there will be fewer samples in each tag, and there will be more missing data  tags that have zero occurrences in the data. The techniques in this section are optional.\n",
    "\n",
    "- __[Laplace Smoothing](https://en.wikipedia.org/wiki/Additive_smoothing) (pseudocounts)__ -\n",
    "    Laplace smoothing is a technique where you add a small, non-zero value to all observed counts to offset for unobserved values.\n",
    "\n",
    "- __Backoff Smoothing__ -\n",
    "Another smoothing technique is to interpolate between n-grams for missing data. This method is more effective than Laplace smoothing at combatting the data sparsity problem. Refer to chapters 4, 9, and 10 of the [Speech & Language Processing](https://web.stanford.edu/~jurafsky/slp3/) book for more information.\n",
    "\n",
    "- __Extending to Trigrams__\n",
    "    HMM taggers have achieved better than 96% accuracy on this dataset with the full Penn treebank tagset using an architecture described in [this](http://www.coli.uni-saarland.de/~thorsten/publications/Brants-ANLP00.pdf) paper. Altering your HMM to achieve the same performance would require implementing deleted interpolation (described in the paper), incorporating trigram probabilities in your frequency tables, and re-implementing the Viterbi algorithm to consider three consecutive states instead of two.\n",
    "\n",
    "### Obtain the Brown Corpus with a Larger Tagset\n",
    "Run the code below to download a copy of the brown corpus with the full NLTK tagset. You will need to research the available tagset information in the NLTK docs and determine the best way to extract the subset of NLTK tags you want to explore. If you write the following the format specified in Step 1, then you can reload the data using all of the code above for comparison.\n",
    "\n",
    "Refer to [Chapter 5](http://www.nltk.org/book/ch05.html) of the NLTK book for more information on the available tagsets."
   ]
  },
  {
   "cell_type": "code",
   "execution_count": 103,
   "metadata": {
    "scrolled": false
   },
   "outputs": [
    {
     "name": "stderr",
     "output_type": "stream",
     "text": [
      "[nltk_data] Downloading package universal_tagset to\n",
      "[nltk_data]     /Users/taichinakatani/nltk_data...\n",
      "[nltk_data]   Package universal_tagset is already up-to-date!\n",
      "[nltk_data] Downloading package brown to\n",
      "[nltk_data]     /Users/taichinakatani/nltk_data...\n",
      "[nltk_data]   Package brown is already up-to-date!\n"
     ]
    },
    {
     "data": {
      "text/plain": [
       "[('The', 'AT'),\n",
       " ('Fulton', 'NP-TL'),\n",
       " ('County', 'NN-TL'),\n",
       " ('Grand', 'JJ-TL'),\n",
       " ('Jury', 'NN-TL'),\n",
       " ('said', 'VBD'),\n",
       " ('Friday', 'NR'),\n",
       " ('an', 'AT'),\n",
       " ('investigation', 'NN'),\n",
       " ('of', 'IN'),\n",
       " (\"Atlanta's\", 'NP$'),\n",
       " ('recent', 'JJ'),\n",
       " ('primary', 'NN'),\n",
       " ('election', 'NN'),\n",
       " ('produced', 'VBD'),\n",
       " ('``', '``'),\n",
       " ('no', 'AT'),\n",
       " ('evidence', 'NN'),\n",
       " (\"''\", \"''\"),\n",
       " ('that', 'CS'),\n",
       " ('any', 'DTI'),\n",
       " ('irregularities', 'NNS'),\n",
       " ('took', 'VBD'),\n",
       " ('place', 'NN'),\n",
       " ('.', '.')]"
      ]
     },
     "execution_count": 103,
     "metadata": {},
     "output_type": "execute_result"
    }
   ],
   "source": [
    "import nltk\n",
    "from nltk import pos_tag, word_tokenize\n",
    "from nltk.corpus import brown\n",
    "from nltk.tag.mapping import tagset_mapping\n",
    "\n",
    "nltk.download('universal_tagset')\n",
    "nltk.download('brown')\n",
    "training_corpus = nltk.corpus.brown\n",
    "training_corpus.tagged_sents()[0]"
   ]
  },
  {
   "cell_type": "code",
   "execution_count": 110,
   "metadata": {},
   "outputs": [
    {
     "data": {
      "text/plain": [
       "defaultdict(<function nltk.tag.mapping._load_universal_map.<locals>.<lambda>()>,\n",
       "            {'!': '.',\n",
       "             '#': '.',\n",
       "             '$': '.',\n",
       "             \"''\": '.',\n",
       "             '(': '.',\n",
       "             ')': '.',\n",
       "             ',': '.',\n",
       "             '-LRB-': '.',\n",
       "             '-RRB-': '.',\n",
       "             '.': '.',\n",
       "             ':': '.',\n",
       "             '?': '.',\n",
       "             'CC': 'CONJ',\n",
       "             'CD': 'NUM',\n",
       "             'CD|RB': 'X',\n",
       "             'DT': 'DET',\n",
       "             'EX': 'DET',\n",
       "             'FW': 'X',\n",
       "             'IN': 'ADP',\n",
       "             'IN|RP': 'ADP',\n",
       "             'JJ': 'ADJ',\n",
       "             'JJR': 'ADJ',\n",
       "             'JJRJR': 'ADJ',\n",
       "             'JJS': 'ADJ',\n",
       "             'JJ|RB': 'ADJ',\n",
       "             'JJ|VBG': 'ADJ',\n",
       "             'LS': 'X',\n",
       "             'MD': 'VERB',\n",
       "             'NN': 'NOUN',\n",
       "             'NNP': 'NOUN',\n",
       "             'NNPS': 'NOUN',\n",
       "             'NNS': 'NOUN',\n",
       "             'NN|NNS': 'NOUN',\n",
       "             'NN|SYM': 'NOUN',\n",
       "             'NN|VBG': 'NOUN',\n",
       "             'NP': 'NOUN',\n",
       "             'PDT': 'DET',\n",
       "             'POS': 'PRT',\n",
       "             'PRP': 'PRON',\n",
       "             'PRP$': 'PRON',\n",
       "             'PRP|VBP': 'PRON',\n",
       "             'PRT': 'PRT',\n",
       "             'RB': 'ADV',\n",
       "             'RBR': 'ADV',\n",
       "             'RBS': 'ADV',\n",
       "             'RB|RP': 'ADV',\n",
       "             'RB|VBG': 'ADV',\n",
       "             'RN': 'X',\n",
       "             'RP': 'PRT',\n",
       "             'SYM': 'X',\n",
       "             'TO': 'PRT',\n",
       "             'UH': 'X',\n",
       "             'VB': 'VERB',\n",
       "             'VBD': 'VERB',\n",
       "             'VBD|VBN': 'VERB',\n",
       "             'VBG': 'VERB',\n",
       "             'VBG|NN': 'VERB',\n",
       "             'VBN': 'VERB',\n",
       "             'VBP': 'VERB',\n",
       "             'VBP|TO': 'VERB',\n",
       "             'VBZ': 'VERB',\n",
       "             'VP': 'VERB',\n",
       "             'WDT': 'DET',\n",
       "             'WH': 'X',\n",
       "             'WP': 'PRON',\n",
       "             'WP$': 'PRON',\n",
       "             'WRB': 'ADV',\n",
       "             '``': '.',\n",
       "             'AT': 'X',\n",
       "             'NP-TL': 'X',\n",
       "             'NN-TL': 'X',\n",
       "             'JJ-TL': 'X',\n",
       "             'NR': 'X',\n",
       "             'NP$': 'X',\n",
       "             'CS': 'X',\n",
       "             'DTI': 'X',\n",
       "             'HVD': 'X',\n",
       "             'IN-TL': 'X',\n",
       "             'BEDZ': 'X',\n",
       "             'BEN': 'X',\n",
       "             'PPS': 'X',\n",
       "             'DOD': 'X',\n",
       "             'AP': 'X',\n",
       "             'BER': 'X',\n",
       "             'HV': 'X',\n",
       "             'DTS': 'X',\n",
       "             'PPO': 'X',\n",
       "             'QL': 'X',\n",
       "             'JJT': 'X',\n",
       "             'ABX': 'X',\n",
       "             'NN-HL': 'X',\n",
       "             'VBN-HL': 'X',\n",
       "             'BE': 'X',\n",
       "             'VBG-TL': 'X',\n",
       "             'BEZ': 'X'})"
      ]
     },
     "execution_count": 110,
     "metadata": {},
     "output_type": "execute_result"
    }
   ],
   "source": [
    "# Create a dictionary that serves as the map between the Penn-Treebank POS tagset that the \n",
    "# Brown Corpus uses and the universal tagset.\n",
    "ptb_to_universal_map = tagset_mapping('en-ptb', 'universal')\n",
    "ptb_to_universal_map"
   ]
  },
  {
   "cell_type": "code",
   "execution_count": 127,
   "metadata": {},
   "outputs": [],
   "source": [
    "# Create a training corpus that mimics the structure of 'brown-universal.txt'\n",
    "with open(\"brown_nltk.txt\", \"w\") as file:\n",
    "    for i, sent in enumerate(training_corpus.tagged_sents()):\n",
    "        sentence_id = f\"seq_{i}\"\n",
    "        file.write(sentence_id + \"\\n\")\n",
    "        for token, tag in sent:\n",
    "            file.write(token + \"\\t\" + ptb_to_universal_map[tag] + \"\\n\")\n",
    "        file.write(\"\\n\")"
   ]
  },
  {
   "cell_type": "code",
   "execution_count": 129,
   "metadata": {},
   "outputs": [
    {
     "name": "stdout",
     "output_type": "stream",
     "text": [
      "There are 57340 sentences in the corpus.\n",
      "There are 45872 sentences in the training set.\n",
      "There are 11468 sentences in the testing set.\n"
     ]
    }
   ],
   "source": [
    "data = Dataset(\"tags-universal.txt\", \"brown_nltk.txt\", train_test_split=0.8)\n",
    "\n",
    "print(\"There are {} sentences in the corpus.\".format(len(data)))\n",
    "print(\"There are {} sentences in the training set.\".format(len(data.training_set)))\n",
    "print(\"There are {} sentences in the testing set.\".format(len(data.testing_set)))\n",
    "\n",
    "assert len(data) == len(data.training_set) + len(data.testing_set), \\\n",
    "       \"The number of sentences in the training set + testing set should sum to the number of sentences in the corpus\""
   ]
  },
  {
   "cell_type": "markdown",
   "metadata": {},
   "source": [
    "With this method, we have the same training / testing data as the original provided data."
   ]
  },
  {
   "cell_type": "markdown",
   "metadata": {},
   "source": [
    "## Resources\n",
    "\n",
    "- https://pomegranate.readthedocs.io/en/latest/HiddenMarkovModel.html\n",
    "- http://www.nltk.org/book/ch05.html\n",
    "- https://en.wikipedia.org/wiki/Brown_Corpus#Part-of-speech_tags_used\n",
    "- https://www.nltk.org/_modules/nltk/tag/mapping.html\n",
    "- https://stackoverflow.com/questions/55984480/python-taggedcorpusreader-how-to-get-from-a-stts-to-a-universal-tagset"
   ]
  },
  {
   "cell_type": "code",
   "execution_count": null,
   "metadata": {},
   "outputs": [],
   "source": []
  }
 ],
 "metadata": {
  "kernelspec": {
   "display_name": "Python [conda env:nlpnd]",
   "language": "python",
   "name": "conda-env-nlpnd-py"
  },
  "language_info": {
   "codemirror_mode": {
    "name": "ipython",
    "version": 3
   },
   "file_extension": ".py",
   "mimetype": "text/x-python",
   "name": "python",
   "nbconvert_exporter": "python",
   "pygments_lexer": "ipython3",
   "version": "3.6.10"
  }
 },
 "nbformat": 4,
 "nbformat_minor": 2
}
